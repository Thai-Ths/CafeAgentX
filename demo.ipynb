{
 "cells": [
  {
   "cell_type": "code",
   "execution_count": 1,
   "id": "10cad9c6",
   "metadata": {},
   "outputs": [],
   "source": [
    "import gradio as gr\n",
    "from langgraph.graph import StateGraph, END\n",
    "from typing_extensions import TypedDict, Annotated, List, Dict, Any\n",
    "from datetime import datetime\n",
    "from IPython.display import Image, display\n",
    "import operator"
   ]
  },
  {
   "cell_type": "code",
   "execution_count": 2,
   "id": "9494d474",
   "metadata": {},
   "outputs": [],
   "source": [
    "# ──────────────── STATE DEFINITION ────────────────\n",
    "class CustomerState(TypedDict):\n",
    "    user_message: Annotated[str, \"readonly\"]\n",
    "    chat_history: Annotated[List[Dict[str, str]], \"add\"]\n",
    "    assigned_agents: Annotated[List[str], \"set\"]\n",
    "    agent_results: Annotated[Dict[str, str], operator.or_]\n",
    "    final_response: Annotated[str, \"set\"]\n",
    "    logs: Annotated[List[str], operator.add]"
   ]
  },
  {
   "cell_type": "code",
   "execution_count": 3,
   "id": "5f0a723a",
   "metadata": {},
   "outputs": [],
   "source": [
    "# ──────────────── Intake Officer ────────────────\n",
    "def intake_node(state: CustomerState) -> CustomerState:\n",
    "    user_msg = state[\"user_message\"].lower()\n",
    "    # ตอบเองถ้าเป็นคำทักทาย/ขอบคุณ\n",
    "    if any(word in user_msg for word in [\"hello\", \"hi\", \"สวัสดี\", \"ขอบคุณ\", \"thank\"]):\n",
    "        state[\"final_response\"] = \"🙋‍♀️ สวัสดีค่ะ! มีอะไรให้ช่วยไหมคะ?\"\n",
    "        state[\"logs\"].append(f\"[{datetime.now().isoformat(timespec='seconds')}] INTAKE: ตอบเอง (direct)\")\n",
    "        return state\n",
    "\n",
    "    assigned = []\n",
    "    if \"สินค้า\" in user_msg or \"product\" in user_msg:\n",
    "        assigned.append(\"product_agent\")\n",
    "    if \"บิล\" in user_msg or \"bill\" in user_msg:\n",
    "        assigned.append(\"billing_agent\")\n",
    "    if not assigned:\n",
    "        # ถ้าไม่เข้า keyword ใดๆ ตอบเองเลย\n",
    "        state[\"final_response\"] = \"🤔 ขออภัยค่ะ ฉันไม่เข้าใจคำถามของคุณ กรุณาลองใหม่\"\n",
    "        state[\"logs\"].append(f\"[{datetime.now().isoformat(timespec='seconds')}] INTAKE_OFFIER: ตอบเอง (default)\")\n",
    "        return state\n",
    "    state[\"assigned_agents\"] = assigned\n",
    "    state[\"logs\"].append(f\"[{datetime.now().isoformat(timespec='seconds')}] INTAKE_OFFIER: Assigned {assigned}\")\n",
    "    return state"
   ]
  },
  {
   "cell_type": "code",
   "execution_count": 4,
   "id": "1c5bf6fa",
   "metadata": {},
   "outputs": [],
   "source": [
    "# ──────────────── PRODUCT AGENT ────────────────\n",
    "def product_agent(state: CustomerState) -> dict:\n",
    "    response = \"📦 product_agent ข้อมูลสินค้า: iPhone 15 Pro Max, ราคา 45,900 บาท\"\n",
    "    log = f\"[{datetime.now().isoformat(timespec='seconds')}] PRODUCT_AGENT: Responded\"\n",
    "    return {\"agent_results\": {\"product_agent\": response}, \"logs\": [log]}"
   ]
  },
  {
   "cell_type": "code",
   "execution_count": 5,
   "id": "5413902c",
   "metadata": {},
   "outputs": [],
   "source": [
    "# ──────────────── BILLING AGENT ────────────────\n",
    "def billing_agent(state: CustomerState) -> dict:\n",
    "    response = \"🧾 billing_agent ข้อมูลบิลล่าสุด: ใบเสร็จส่งไปที่ customer@email.com\"\n",
    "    log = f\"[{datetime.now().isoformat(timespec='seconds')}] BILLING_AGENT: Responded\"\n",
    "    return {\"agent_results\": {\"billing_agent\": response}, \"logs\": [log]}"
   ]
  },
  {
   "cell_type": "code",
   "execution_count": 6,
   "id": "1575fe52",
   "metadata": {},
   "outputs": [],
   "source": [
    "# ──────────────── AGGREGATOR (Reduce Node) ────────────────\n",
    "def aggregator_node(state: CustomerState) -> dict:\n",
    "    assigned = set(state.get(\"assigned_agents\", []))\n",
    "    results = state.get(\"agent_results\", {})\n",
    "    logs = []\n",
    "    # รอจนกว่าทุก agent ที่ assigned จะตอบครบ\n",
    "    if not assigned <= set(results.keys()):\n",
    "        waiting = list(assigned - set(results.keys()))\n",
    "        logs.append(f\"[{datetime.now().isoformat(timespec='seconds')}] AGGREGATOR: Waiting for {waiting} ...\")\n",
    "        return {\"logs\": logs}\n",
    "    # รวมผล\n",
    "    answer = \"\"\n",
    "    for agent in assigned:\n",
    "        answer += results[agent] + \"\\n\\n\"\n",
    "    logs.append(f\"[{datetime.now().isoformat(timespec='seconds')}] AGGREGATOR: Aggregated response\")\n",
    "    return {\"final_response\": answer, \"logs\": logs}"
   ]
  },
  {
   "cell_type": "code",
   "execution_count": 7,
   "id": "e14bef01",
   "metadata": {},
   "outputs": [],
   "source": [
    "# ──────────────── WORKFLOW ────────────────\n",
    "def intake_router(state):\n",
    "    # DEBUG: เพิ่ม log เพื่อดูว่า router ถูกเรียกและคืนค่าอะไร\n",
    "    print(f\"🔍 DEBUG: intake_router called at {datetime.now().isoformat(timespec='milliseconds')}\")\n",
    "    print(f\"🔍 DEBUG: final_response = {state.get('final_response')}\")\n",
    "    print(f\"🔍 DEBUG: assigned_agents = {state.get('assigned_agents')}\")\n",
    "    \n",
    "    if state.get(\"final_response\"):\n",
    "        print(f\"🔍 DEBUG: router returning 'finish'\")\n",
    "        return \"finish\"\n",
    "    \n",
    "    assigned = state[\"assigned_agents\"]\n",
    "    \n",
    "    # FIX: ถ้ามีแค่ agent เดียว ให้ return string แทน list\n",
    "    if isinstance(assigned, list):\n",
    "        if len(assigned) == 1:\n",
    "            print(f\"🔍 DEBUG: router returning string '{assigned[0]}'\")\n",
    "            return assigned[0]\n",
    "        elif len(assigned) == 0:\n",
    "            print(f\"🔍 DEBUG: router returning 'finish' (no agents)\")\n",
    "            return \"finish\"\n",
    "        else:\n",
    "            print(f\"🔍 DEBUG: router returning list {assigned}\")\n",
    "            return assigned\n",
    "    else:\n",
    "        print(f\"🔍 DEBUG: router returning {assigned}\")\n",
    "        return assigned\n",
    "\n",
    "def build_workflow():\n",
    "    graph = StateGraph(CustomerState)\n",
    "    graph.add_node(\"intake_officer\", intake_node)\n",
    "    graph.add_node(\"product_agent\", product_agent)\n",
    "    graph.add_node(\"billing_agent\", billing_agent)\n",
    "    graph.add_node(\"aggregator\", aggregator_node)\n",
    "    graph.set_entry_point(\"intake_officer\")\n",
    "\n",
    "    # intake route\n",
    "    graph.add_conditional_edges(\n",
    "        \"intake_officer\",\n",
    "        intake_router,\n",
    "        {\n",
    "            \"product_agent\": \"product_agent\",\n",
    "            \"billing_agent\": \"billing_agent\",\n",
    "            \"finish\": END,  # เมื่อ intake ตอบเอง\n",
    "        }\n",
    "    )\n",
    "    graph.add_edge(\"product_agent\", \"aggregator\")\n",
    "    graph.add_edge(\"billing_agent\", \"aggregator\")\n",
    "    graph.add_edge(\"aggregator\", END)\n",
    "    return graph.compile()"
   ]
  },
  {
   "cell_type": "code",
   "execution_count": 8,
   "id": "587afac6",
   "metadata": {},
   "outputs": [
    {
     "data": {
      "image/png": "[encoded data removed]",
      "text/plain": [
       "<IPython.core.display.Image object>"
      ]
     },
     "metadata": {},
     "output_type": "display_data"
    }
   ],
   "source": [
    "workflow = build_workflow()\n",
    "display(Image(workflow.get_graph().draw_mermaid_png()))"
   ]
  },
  {
   "cell_type": "code",
   "execution_count": 12,
   "id": "219f06d4",
   "metadata": {},
   "outputs": [],
   "source": [
    "# ──────────────── GRADIO UI ────────────────\n",
    "def chat(user_message: str, history: list = None) -> tuple:\n",
    "        # DEBUG: เพิ่ม log เพื่อดูว่า chat function ถูกเรียกกี่ครั้ง\n",
    "    print(f\"🔍 DEBUG: chat function called at {datetime.now().isoformat(timespec='milliseconds')}\")\n",
    "    print(f\"🔍 DEBUG: user_message = '{user_message}'\")\n",
    "    \n",
    "    if not user_message.strip():\n",
    "        return history or [], \"⚠️ กรุณากรอกข้อความ\"\n",
    "    history = history or []\n",
    "\n",
    "    state = {\n",
    "        \"user_message\": user_message,\n",
    "        \"chat_history\": history,\n",
    "        \"assigned_agents\": [],\n",
    "        \"agent_results\": {},\n",
    "        \"final_response\": \"\",\n",
    "        \"logs\": []\n",
    "    }\n",
    "    \n",
    "    print(f\"🔍 DEBUG: About to invoke workflow with state keys: {list(state.keys())}\")\n",
    "    result = workflow.invoke(state)\n",
    "    print(f\"🔍 DEBUG: Workflow completed, result keys: {list(result.keys())}\")\n",
    "    \n",
    "    if not user_message.strip():\n",
    "        return history or [], \"⚠️ กรุณากรอกข้อความ\"\n",
    "    # history = history or []\n",
    "\n",
    "    # state = {\n",
    "    #     \"user_message\": user_message,\n",
    "    #     \"chat_history\": history,\n",
    "    #     \"assigned_agents\": [],\n",
    "    #     \"agent_results\": {},\n",
    "    #     \"final_response\": \"\",\n",
    "    #     \"logs\": []\n",
    "    # }\n",
    "    # result = workflow.invoke(state)\n",
    "    # แสดงผลลัพธ์\n",
    "    bot_reply = result.get(\"final_response\", \"ขออภัยค่ะ ไม่เข้าใจคำถาม กรุณาลองใหม่\")\n",
    "    logs = \"\\n\".join(result.get(\"logs\", []))\n",
    "    history.append({\"role\": \"user\", \"content\": user_message})\n",
    "    history.append({\"role\": \"assistant\", \"content\": bot_reply})\n",
    "    return history, logs\n",
    "\n",
    "def clear_chat():\n",
    "    return [], \"\"\n",
    "\n",
    "def create_demo():\n",
    "    with gr.Blocks(title=\"LangGraph Map-Reduce Multi-Agent Demo\") as demo:\n",
    "        gr.Markdown(\n",
    "            \"# 🤖 LangGraph Map-Reduce Multi-Agent Demo\\n\" +\n",
    "            \"- พิมพ์ \\\"สินค้า บิล\\\" เพื่อให้ถามทั้ง 2 agent\\n- พิมพ์ \\\"บิล\\\" หรือ \\\"สินค้า\\\" เพื่อให้ถาม agent เดียว\"\n",
    "        )\n",
    "        with gr.Row():\n",
    "            with gr.Column(scale=3):\n",
    "                chatbot = gr.Chatbot(type='messages', label=\"💬 Chat History\", height=300)\n",
    "                msg = gr.Textbox(label=\"💭 พิมพ์ข้อความ\", placeholder=\"สินค้า บิล\", lines=2)\n",
    "                with gr.Row():\n",
    "                    send_btn = gr.Button(\"📤 Send\", scale=2)\n",
    "                    clear_btn = gr.Button(\"🗑️ Clear\", scale=1)\n",
    "            with gr.Column(scale=1):\n",
    "                logbox = gr.Textbox(label=\"📋 System Logs\", interactive=False, lines=20)\n",
    "        send_btn.click(fn=chat, inputs=[msg, chatbot], outputs=[chatbot, logbox]).then(fn=lambda: \"\", outputs=[msg])\n",
    "        clear_btn.click(fn=clear_chat, outputs=[chatbot, logbox])\n",
    "        msg.submit(fn=chat, inputs=[msg, chatbot], outputs=[chatbot, logbox]).then(fn=lambda: \"\", outputs=[msg])\n",
    "        gr.Examples(\n",
    "            examples=[\"สินค้า\", \"บิล\", \"สินค้า บิล\", \"รายละเอียดสินค้า\", \"ข้อมูลบิล\"],\n",
    "            inputs=[msg],\n",
    "            label=\"💡 ตัวอย่างคำถาม\"\n",
    "        )\n",
    "    return demo"
   ]
  },
  {
   "cell_type": "code",
   "execution_count": 13,
   "id": "cd30b54e",
   "metadata": {},
   "outputs": [
    {
     "name": "stdout",
     "output_type": "stream",
     "text": [
      "* Running on local URL:  http://127.0.0.1:7860\n",
      "* To create a public link, set `share=True` in `launch()`.\n"
     ]
    },
    {
     "data": {
      "text/html": [
       "<div><iframe src=\"http://127.0.0.1:7860/\" width=\"100%\" height=\"500\" allow=\"autoplay; camera; microphone; clipboard-read; clipboard-write;\" frameborder=\"0\" allowfullscreen></iframe></div>"
      ],
      "text/plain": [
       "<IPython.core.display.HTML object>"
      ]
     },
     "metadata": {},
     "output_type": "display_data"
    },
    {
     "name": "stdout",
     "output_type": "stream",
     "text": [
      "🔍 DEBUG: chat function called at 2025-07-08T10:58:19.964\n",
      "🔍 DEBUG: user_message = 'สินค้า'\n",
      "🔍 DEBUG: About to invoke workflow with state keys: ['user_message', 'chat_history', 'assigned_agents', 'agent_results', 'final_response', 'logs']\n",
      "🔍 DEBUG: intake_router called at 2025-07-08T10:58:19.970\n",
      "🔍 DEBUG: final_response = \n",
      "🔍 DEBUG: assigned_agents = ['product_agent']\n",
      "🔍 DEBUG: router returning string 'product_agent'\n",
      "🔍 DEBUG: Workflow completed, result keys: ['user_message', 'chat_history', 'assigned_agents', 'agent_results', 'final_response', 'logs']\n",
      "Keyboard interruption in main thread... closing server.\n"
     ]
    },
    {
     "data": {
      "text/plain": []
     },
     "execution_count": 13,
     "metadata": {},
     "output_type": "execute_result"
    }
   ],
   "source": [
    "demo = create_demo()\n",
    "demo.launch(debug=True)"
   ]
  },
  {
   "cell_type": "code",
   "execution_count": null,
   "id": "004258c2",
   "metadata": {},
   "outputs": [],
   "source": []
  }
 ],
 "metadata": {
  "kernelspec": {
   "display_name": ".venv",
   "language": "python",
   "name": "python3"
  },
  "language_info": {
   "codemirror_mode": {
    "name": "ipython",
    "version": 3
   },
   "file_extension": ".py",
   "mimetype": "text/x-python",
   "name": "python",
   "nbconvert_exporter": "python",
   "pygments_lexer": "ipython3",
   "version": "3.12.10"
  }
 },
 "nbformat": 4,
 "nbformat_minor": 5
}
